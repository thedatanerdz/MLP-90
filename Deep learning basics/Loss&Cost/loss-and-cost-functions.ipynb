{
 "cells": [
  {
   "cell_type": "code",
   "execution_count": 1,
   "id": "e7b3cd60",
   "metadata": {
    "execution": {
     "iopub.execute_input": "2023-08-18T10:06:14.436836Z",
     "iopub.status.busy": "2023-08-18T10:06:14.436343Z",
     "iopub.status.idle": "2023-08-18T10:06:14.446967Z",
     "shell.execute_reply": "2023-08-18T10:06:14.445919Z"
    },
    "papermill": {
     "duration": 0.021397,
     "end_time": "2023-08-18T10:06:14.449386",
     "exception": false,
     "start_time": "2023-08-18T10:06:14.427989",
     "status": "completed"
    },
    "tags": []
   },
   "outputs": [],
   "source": [
    "import numpy as np"
   ]
  },
  {
   "cell_type": "code",
   "execution_count": 2,
   "id": "acf23f12",
   "metadata": {
    "execution": {
     "iopub.execute_input": "2023-08-18T10:06:14.462093Z",
     "iopub.status.busy": "2023-08-18T10:06:14.461756Z",
     "iopub.status.idle": "2023-08-18T10:06:14.467404Z",
     "shell.execute_reply": "2023-08-18T10:06:14.465778Z"
    },
    "papermill": {
     "duration": 0.015006,
     "end_time": "2023-08-18T10:06:14.469976",
     "exception": false,
     "start_time": "2023-08-18T10:06:14.454970",
     "status": "completed"
    },
    "tags": []
   },
   "outputs": [],
   "source": [
    "y_predicted = np.array([1,1,0,0,1])\n",
    "y_true = np.array([0.30,0.7,1,0,0.5])"
   ]
  },
  {
   "cell_type": "markdown",
   "id": "db913201",
   "metadata": {
    "papermill": {
     "duration": 0.006293,
     "end_time": "2023-08-18T10:06:14.481904",
     "exception": false,
     "start_time": "2023-08-18T10:06:14.475611",
     "status": "completed"
    },
    "tags": []
   },
   "source": [
    "<h3 style='color:blue'>Implement Mean Absolute Error</h3>"
   ]
  },
  {
   "cell_type": "code",
   "execution_count": 3,
   "id": "abd3e906",
   "metadata": {
    "execution": {
     "iopub.execute_input": "2023-08-18T10:06:14.496446Z",
     "iopub.status.busy": "2023-08-18T10:06:14.495614Z",
     "iopub.status.idle": "2023-08-18T10:06:14.501031Z",
     "shell.execute_reply": "2023-08-18T10:06:14.500172Z"
    },
    "papermill": {
     "duration": 0.014702,
     "end_time": "2023-08-18T10:06:14.503174",
     "exception": false,
     "start_time": "2023-08-18T10:06:14.488472",
     "status": "completed"
    },
    "tags": []
   },
   "outputs": [],
   "source": [
    "def mae(y_predicted, y_true):\n",
    "    total_error = 0\n",
    "    for yp, yt in zip(y_predicted, y_true):\n",
    "        total_error += abs(yp - yt)\n",
    "    print(\"Total error is:\",total_error)\n",
    "    mae = total_error/len(y_predicted)\n",
    "    print(\"Mean absolute error is:\",mae)\n",
    "    return mae"
   ]
  },
  {
   "cell_type": "code",
   "execution_count": 4,
   "id": "e1e7c9cc",
   "metadata": {
    "execution": {
     "iopub.execute_input": "2023-08-18T10:06:14.517794Z",
     "iopub.status.busy": "2023-08-18T10:06:14.517000Z",
     "iopub.status.idle": "2023-08-18T10:06:14.525315Z",
     "shell.execute_reply": "2023-08-18T10:06:14.523892Z"
    },
    "papermill": {
     "duration": 0.017897,
     "end_time": "2023-08-18T10:06:14.528038",
     "exception": false,
     "start_time": "2023-08-18T10:06:14.510141",
     "status": "completed"
    },
    "scrolled": true,
    "tags": []
   },
   "outputs": [
    {
     "name": "stdout",
     "output_type": "stream",
     "text": [
      "Total error is: 2.5\n",
      "Mean absolute error is: 0.5\n"
     ]
    },
    {
     "data": {
      "text/plain": [
       "0.5"
      ]
     },
     "execution_count": 4,
     "metadata": {},
     "output_type": "execute_result"
    }
   ],
   "source": [
    "mae(y_predicted, y_true)"
   ]
  },
  {
   "cell_type": "markdown",
   "id": "f9b14656",
   "metadata": {
    "papermill": {
     "duration": 0.006529,
     "end_time": "2023-08-18T10:06:14.540411",
     "exception": false,
     "start_time": "2023-08-18T10:06:14.533882",
     "status": "completed"
    },
    "tags": []
   },
   "source": [
    "**Implement same thing using numpy in much easier way**"
   ]
  },
  {
   "cell_type": "code",
   "execution_count": 5,
   "id": "a7b35058",
   "metadata": {
    "execution": {
     "iopub.execute_input": "2023-08-18T10:06:14.553582Z",
     "iopub.status.busy": "2023-08-18T10:06:14.553268Z",
     "iopub.status.idle": "2023-08-18T10:06:14.562118Z",
     "shell.execute_reply": "2023-08-18T10:06:14.561267Z"
    },
    "papermill": {
     "duration": 0.017229,
     "end_time": "2023-08-18T10:06:14.563944",
     "exception": false,
     "start_time": "2023-08-18T10:06:14.546715",
     "status": "completed"
    },
    "tags": []
   },
   "outputs": [
    {
     "data": {
      "text/plain": [
       "array([0.7, 0.3, 1. , 0. , 0.5])"
      ]
     },
     "execution_count": 5,
     "metadata": {},
     "output_type": "execute_result"
    }
   ],
   "source": [
    "np.abs(y_predicted-y_true)"
   ]
  },
  {
   "cell_type": "code",
   "execution_count": 6,
   "id": "10897070",
   "metadata": {
    "execution": {
     "iopub.execute_input": "2023-08-18T10:06:14.579716Z",
     "iopub.status.busy": "2023-08-18T10:06:14.578097Z",
     "iopub.status.idle": "2023-08-18T10:06:14.587480Z",
     "shell.execute_reply": "2023-08-18T10:06:14.585775Z"
    },
    "papermill": {
     "duration": 0.019117,
     "end_time": "2023-08-18T10:06:14.590411",
     "exception": false,
     "start_time": "2023-08-18T10:06:14.571294",
     "status": "completed"
    },
    "tags": []
   },
   "outputs": [
    {
     "data": {
      "text/plain": [
       "0.5"
      ]
     },
     "execution_count": 6,
     "metadata": {},
     "output_type": "execute_result"
    }
   ],
   "source": [
    "np.mean(np.abs(y_predicted-y_true))"
   ]
  },
  {
   "cell_type": "code",
   "execution_count": 7,
   "id": "e81e52fa",
   "metadata": {
    "execution": {
     "iopub.execute_input": "2023-08-18T10:06:14.603945Z",
     "iopub.status.busy": "2023-08-18T10:06:14.603594Z",
     "iopub.status.idle": "2023-08-18T10:06:14.609126Z",
     "shell.execute_reply": "2023-08-18T10:06:14.607647Z"
    },
    "papermill": {
     "duration": 0.015271,
     "end_time": "2023-08-18T10:06:14.611695",
     "exception": false,
     "start_time": "2023-08-18T10:06:14.596424",
     "status": "completed"
    },
    "tags": []
   },
   "outputs": [],
   "source": [
    "def mae_np(y_predicted, y_true):\n",
    "    return np.mean(np.abs(y_predicted-y_true))"
   ]
  },
  {
   "cell_type": "code",
   "execution_count": 8,
   "id": "0c031339",
   "metadata": {
    "execution": {
     "iopub.execute_input": "2023-08-18T10:06:14.624901Z",
     "iopub.status.busy": "2023-08-18T10:06:14.624558Z",
     "iopub.status.idle": "2023-08-18T10:06:14.632318Z",
     "shell.execute_reply": "2023-08-18T10:06:14.630876Z"
    },
    "papermill": {
     "duration": 0.016964,
     "end_time": "2023-08-18T10:06:14.634513",
     "exception": false,
     "start_time": "2023-08-18T10:06:14.617549",
     "status": "completed"
    },
    "scrolled": true,
    "tags": []
   },
   "outputs": [
    {
     "data": {
      "text/plain": [
       "0.5"
      ]
     },
     "execution_count": 8,
     "metadata": {},
     "output_type": "execute_result"
    }
   ],
   "source": [
    "mae_np(y_predicted, y_true)"
   ]
  },
  {
   "cell_type": "markdown",
   "id": "1ba14145",
   "metadata": {
    "papermill": {
     "duration": 0.005733,
     "end_time": "2023-08-18T10:06:14.646373",
     "exception": false,
     "start_time": "2023-08-18T10:06:14.640640",
     "status": "completed"
    },
    "tags": []
   },
   "source": [
    "<h3 style='color:blue'>Implement Log Loss or Binary Cross Entropy</h3>"
   ]
  },
  {
   "cell_type": "code",
   "execution_count": 9,
   "id": "8f0b8875",
   "metadata": {
    "execution": {
     "iopub.execute_input": "2023-08-18T10:06:14.660401Z",
     "iopub.status.busy": "2023-08-18T10:06:14.659957Z",
     "iopub.status.idle": "2023-08-18T10:06:14.671713Z",
     "shell.execute_reply": "2023-08-18T10:06:14.669277Z"
    },
    "papermill": {
     "duration": 0.021589,
     "end_time": "2023-08-18T10:06:14.674273",
     "exception": false,
     "start_time": "2023-08-18T10:06:14.652684",
     "status": "completed"
    },
    "tags": []
   },
   "outputs": [
    {
     "name": "stderr",
     "output_type": "stream",
     "text": [
      "/tmp/ipykernel_20/262464415.py:1: RuntimeWarning: divide by zero encountered in log\n",
      "  np.log([0])\n"
     ]
    },
    {
     "data": {
      "text/plain": [
       "array([-inf])"
      ]
     },
     "execution_count": 9,
     "metadata": {},
     "output_type": "execute_result"
    }
   ],
   "source": [
    "np.log([0])"
   ]
  },
  {
   "cell_type": "code",
   "execution_count": 10,
   "id": "c4ebd11a",
   "metadata": {
    "execution": {
     "iopub.execute_input": "2023-08-18T10:06:14.688908Z",
     "iopub.status.busy": "2023-08-18T10:06:14.688472Z",
     "iopub.status.idle": "2023-08-18T10:06:14.693004Z",
     "shell.execute_reply": "2023-08-18T10:06:14.692025Z"
    },
    "papermill": {
     "duration": 0.014979,
     "end_time": "2023-08-18T10:06:14.695458",
     "exception": false,
     "start_time": "2023-08-18T10:06:14.680479",
     "status": "completed"
    },
    "tags": []
   },
   "outputs": [],
   "source": [
    "epsilon = 1e-15"
   ]
  },
  {
   "cell_type": "code",
   "execution_count": 11,
   "id": "0cdd5966",
   "metadata": {
    "execution": {
     "iopub.execute_input": "2023-08-18T10:06:14.709853Z",
     "iopub.status.busy": "2023-08-18T10:06:14.709476Z",
     "iopub.status.idle": "2023-08-18T10:06:14.716653Z",
     "shell.execute_reply": "2023-08-18T10:06:14.715539Z"
    },
    "papermill": {
     "duration": 0.016959,
     "end_time": "2023-08-18T10:06:14.718591",
     "exception": false,
     "start_time": "2023-08-18T10:06:14.701632",
     "status": "completed"
    },
    "tags": []
   },
   "outputs": [
    {
     "data": {
      "text/plain": [
       "array([-34.53877639])"
      ]
     },
     "execution_count": 11,
     "metadata": {},
     "output_type": "execute_result"
    }
   ],
   "source": [
    "np.log([1e-15])"
   ]
  },
  {
   "cell_type": "code",
   "execution_count": 12,
   "id": "65e5a1e4",
   "metadata": {
    "execution": {
     "iopub.execute_input": "2023-08-18T10:06:14.733163Z",
     "iopub.status.busy": "2023-08-18T10:06:14.732763Z",
     "iopub.status.idle": "2023-08-18T10:06:14.740769Z",
     "shell.execute_reply": "2023-08-18T10:06:14.739550Z"
    },
    "papermill": {
     "duration": 0.017764,
     "end_time": "2023-08-18T10:06:14.742836",
     "exception": false,
     "start_time": "2023-08-18T10:06:14.725072",
     "status": "completed"
    },
    "tags": []
   },
   "outputs": [
    {
     "data": {
      "text/plain": [
       "array([1, 1, 0, 0, 1])"
      ]
     },
     "execution_count": 12,
     "metadata": {},
     "output_type": "execute_result"
    }
   ],
   "source": [
    "y_predicted"
   ]
  },
  {
   "cell_type": "code",
   "execution_count": 13,
   "id": "9451a348",
   "metadata": {
    "execution": {
     "iopub.execute_input": "2023-08-18T10:06:14.757515Z",
     "iopub.status.busy": "2023-08-18T10:06:14.757080Z",
     "iopub.status.idle": "2023-08-18T10:06:14.765478Z",
     "shell.execute_reply": "2023-08-18T10:06:14.763793Z"
    },
    "papermill": {
     "duration": 0.019666,
     "end_time": "2023-08-18T10:06:14.768968",
     "exception": false,
     "start_time": "2023-08-18T10:06:14.749302",
     "status": "completed"
    },
    "scrolled": true,
    "tags": []
   },
   "outputs": [
    {
     "data": {
      "text/plain": [
       "[1, 1, 1e-15, 1e-15, 1]"
      ]
     },
     "execution_count": 13,
     "metadata": {},
     "output_type": "execute_result"
    }
   ],
   "source": [
    "y_predicted_new = [max(i,epsilon) for i in y_predicted]\n",
    "y_predicted_new"
   ]
  },
  {
   "cell_type": "code",
   "execution_count": 14,
   "id": "159f65a1",
   "metadata": {
    "execution": {
     "iopub.execute_input": "2023-08-18T10:06:14.783670Z",
     "iopub.status.busy": "2023-08-18T10:06:14.783310Z",
     "iopub.status.idle": "2023-08-18T10:06:14.791247Z",
     "shell.execute_reply": "2023-08-18T10:06:14.789857Z"
    },
    "papermill": {
     "duration": 0.018342,
     "end_time": "2023-08-18T10:06:14.793949",
     "exception": false,
     "start_time": "2023-08-18T10:06:14.775607",
     "status": "completed"
    },
    "tags": []
   },
   "outputs": [
    {
     "data": {
      "text/plain": [
       "0.999999999999999"
      ]
     },
     "execution_count": 14,
     "metadata": {},
     "output_type": "execute_result"
    }
   ],
   "source": [
    "1-epsilon"
   ]
  },
  {
   "cell_type": "code",
   "execution_count": 15,
   "id": "eb4238cc",
   "metadata": {
    "execution": {
     "iopub.execute_input": "2023-08-18T10:06:14.810255Z",
     "iopub.status.busy": "2023-08-18T10:06:14.809005Z",
     "iopub.status.idle": "2023-08-18T10:06:14.817303Z",
     "shell.execute_reply": "2023-08-18T10:06:14.816128Z"
    },
    "papermill": {
     "duration": 0.018568,
     "end_time": "2023-08-18T10:06:14.819177",
     "exception": false,
     "start_time": "2023-08-18T10:06:14.800609",
     "status": "completed"
    },
    "tags": []
   },
   "outputs": [
    {
     "data": {
      "text/plain": [
       "[0.999999999999999, 0.999999999999999, 1e-15, 1e-15, 0.999999999999999]"
      ]
     },
     "execution_count": 15,
     "metadata": {},
     "output_type": "execute_result"
    }
   ],
   "source": [
    "y_predicted_new = [min(i,1-epsilon) for i in y_predicted_new]\n",
    "y_predicted_new"
   ]
  },
  {
   "cell_type": "code",
   "execution_count": 16,
   "id": "79b87430",
   "metadata": {
    "execution": {
     "iopub.execute_input": "2023-08-18T10:06:14.834459Z",
     "iopub.status.busy": "2023-08-18T10:06:14.834055Z",
     "iopub.status.idle": "2023-08-18T10:06:14.839507Z",
     "shell.execute_reply": "2023-08-18T10:06:14.838292Z"
    },
    "papermill": {
     "duration": 0.016058,
     "end_time": "2023-08-18T10:06:14.841979",
     "exception": false,
     "start_time": "2023-08-18T10:06:14.825921",
     "status": "completed"
    },
    "tags": []
   },
   "outputs": [],
   "source": [
    "y_predicted_new = np.array(y_predicted_new)"
   ]
  },
  {
   "cell_type": "code",
   "execution_count": 17,
   "id": "9d9584a4",
   "metadata": {
    "execution": {
     "iopub.execute_input": "2023-08-18T10:06:14.857449Z",
     "iopub.status.busy": "2023-08-18T10:06:14.857097Z",
     "iopub.status.idle": "2023-08-18T10:06:14.864908Z",
     "shell.execute_reply": "2023-08-18T10:06:14.863136Z"
    },
    "papermill": {
     "duration": 0.018585,
     "end_time": "2023-08-18T10:06:14.867588",
     "exception": false,
     "start_time": "2023-08-18T10:06:14.849003",
     "status": "completed"
    },
    "tags": []
   },
   "outputs": [
    {
     "data": {
      "text/plain": [
       "array([-9.99200722e-16, -9.99200722e-16, -3.45387764e+01, -3.45387764e+01,\n",
       "       -9.99200722e-16])"
      ]
     },
     "execution_count": 17,
     "metadata": {},
     "output_type": "execute_result"
    }
   ],
   "source": [
    "np.log(y_predicted_new)"
   ]
  },
  {
   "cell_type": "code",
   "execution_count": 18,
   "id": "17cd78dc",
   "metadata": {
    "execution": {
     "iopub.execute_input": "2023-08-18T10:06:14.884494Z",
     "iopub.status.busy": "2023-08-18T10:06:14.884040Z",
     "iopub.status.idle": "2023-08-18T10:06:14.891865Z",
     "shell.execute_reply": "2023-08-18T10:06:14.890358Z"
    },
    "papermill": {
     "duration": 0.019424,
     "end_time": "2023-08-18T10:06:14.894461",
     "exception": false,
     "start_time": "2023-08-18T10:06:14.875037",
     "status": "completed"
    },
    "tags": []
   },
   "outputs": [
    {
     "data": {
      "text/plain": [
       "17.2696280766844"
      ]
     },
     "execution_count": 18,
     "metadata": {},
     "output_type": "execute_result"
    }
   ],
   "source": [
    "-np.mean(y_true*np.log(y_predicted_new)+(1-y_true)*np.log(1-y_predicted_new))"
   ]
  },
  {
   "cell_type": "code",
   "execution_count": 19,
   "id": "14ea57c2",
   "metadata": {
    "execution": {
     "iopub.execute_input": "2023-08-18T10:06:14.910165Z",
     "iopub.status.busy": "2023-08-18T10:06:14.909792Z",
     "iopub.status.idle": "2023-08-18T10:06:14.916454Z",
     "shell.execute_reply": "2023-08-18T10:06:14.915226Z"
    },
    "papermill": {
     "duration": 0.017576,
     "end_time": "2023-08-18T10:06:14.918973",
     "exception": false,
     "start_time": "2023-08-18T10:06:14.901397",
     "status": "completed"
    },
    "tags": []
   },
   "outputs": [],
   "source": [
    "def log_loss(y_true, y_predicted):\n",
    "    y_predicted_new = [max(i,epsilon) for i in y_predicted]\n",
    "    y_predicted_new = [min(i,1-epsilon) for i in y_predicted_new]\n",
    "    y_predicted_new = np.array(y_predicted_new)\n",
    "    return -np.mean(y_true*np.log(y_predicted_new)+(1-y_true)*np.log(1-y_predicted_new))"
   ]
  },
  {
   "cell_type": "code",
   "execution_count": 20,
   "id": "f088e3ed",
   "metadata": {
    "execution": {
     "iopub.execute_input": "2023-08-18T10:06:14.934288Z",
     "iopub.status.busy": "2023-08-18T10:06:14.933868Z",
     "iopub.status.idle": "2023-08-18T10:06:14.941451Z",
     "shell.execute_reply": "2023-08-18T10:06:14.939782Z"
    },
    "papermill": {
     "duration": 0.017498,
     "end_time": "2023-08-18T10:06:14.943375",
     "exception": false,
     "start_time": "2023-08-18T10:06:14.925877",
     "status": "completed"
    },
    "scrolled": true,
    "tags": []
   },
   "outputs": [
    {
     "data": {
      "text/plain": [
       "17.2696280766844"
      ]
     },
     "execution_count": 20,
     "metadata": {},
     "output_type": "execute_result"
    }
   ],
   "source": [
    "log_loss(y_true, y_predicted)"
   ]
  },
  {
   "cell_type": "markdown",
   "id": "d526745c",
   "metadata": {
    "papermill": {
     "duration": 0.00647,
     "end_time": "2023-08-18T10:06:14.956560",
     "exception": false,
     "start_time": "2023-08-18T10:06:14.950090",
     "status": "completed"
    },
    "tags": []
   },
   "source": [
    "<h3 style='color:purple'>Exercise</h3>"
   ]
  },
  {
   "cell_type": "markdown",
   "id": "c30d05d0",
   "metadata": {
    "papermill": {
     "duration": 0.006188,
     "end_time": "2023-08-18T10:06:14.969044",
     "exception": false,
     "start_time": "2023-08-18T10:06:14.962856",
     "status": "completed"
    },
    "tags": []
   },
   "source": [
    "Implement mean squared error (or MSE) in two ways,\n",
    "\n",
    "1) Without using numpy (i.e. using plain python)\n",
    "\n",
    "2) With the use of numpy"
   ]
  },
  {
   "cell_type": "markdown",
   "id": "c3c9310e",
   "metadata": {
    "papermill": {
     "duration": 0.006263,
     "end_time": "2023-08-18T10:06:14.981847",
     "exception": false,
     "start_time": "2023-08-18T10:06:14.975584",
     "status": "completed"
    },
    "tags": []
   },
   "source": [
    "[Solution](https://github.com/codebasics/deep-learning-keras-tf-tutorial/blob/main/5_loss/loss_function_exercise_solution.ipynb)"
   ]
  }
 ],
 "metadata": {
  "kernelspec": {
   "display_name": "Python 3",
   "language": "python",
   "name": "python3"
  },
  "language_info": {
   "codemirror_mode": {
    "name": "ipython",
    "version": 3
   },
   "file_extension": ".py",
   "mimetype": "text/x-python",
   "name": "python",
   "nbconvert_exporter": "python",
   "pygments_lexer": "ipython3",
   "version": "3.10.12"
  },
  "papermill": {
   "default_parameters": {},
   "duration": 10.663686,
   "end_time": "2023-08-18T10:06:15.812580",
   "environment_variables": {},
   "exception": null,
   "input_path": "__notebook__.ipynb",
   "output_path": "__notebook__.ipynb",
   "parameters": {},
   "start_time": "2023-08-18T10:06:05.148894",
   "version": "2.4.0"
  }
 },
 "nbformat": 4,
 "nbformat_minor": 5
}
