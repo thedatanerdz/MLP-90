{
 "cells": [
  {
   "cell_type": "code",
   "execution_count": 1,
   "id": "5ce1cf6e",
   "metadata": {
    "execution": {
     "iopub.execute_input": "2023-08-18T10:02:52.524769Z",
     "iopub.status.busy": "2023-08-18T10:02:52.524119Z",
     "iopub.status.idle": "2023-08-18T10:02:52.540331Z",
     "shell.execute_reply": "2023-08-18T10:02:52.539015Z"
    },
    "papermill": {
     "duration": 0.025663,
     "end_time": "2023-08-18T10:02:52.543036",
     "exception": false,
     "start_time": "2023-08-18T10:02:52.517373",
     "status": "completed"
    },
    "tags": []
   },
   "outputs": [],
   "source": [
    "import numpy as np"
   ]
  },
  {
   "cell_type": "markdown",
   "id": "efcc302e",
   "metadata": {
    "papermill": {
     "duration": 0.003489,
     "end_time": "2023-08-18T10:02:52.550885",
     "exception": false,
     "start_time": "2023-08-18T10:02:52.547396",
     "status": "completed"
    },
    "tags": []
   },
   "source": [
    "<h3 style='color:blue'>Calculate profit/loss from revenue and expenses</h3>"
   ]
  },
  {
   "cell_type": "code",
   "execution_count": 2,
   "id": "6d59a541",
   "metadata": {
    "execution": {
     "iopub.execute_input": "2023-08-18T10:02:52.561124Z",
     "iopub.status.busy": "2023-08-18T10:02:52.560574Z",
     "iopub.status.idle": "2023-08-18T10:02:52.567317Z",
     "shell.execute_reply": "2023-08-18T10:02:52.566096Z"
    },
    "papermill": {
     "duration": 0.015319,
     "end_time": "2023-08-18T10:02:52.569916",
     "exception": false,
     "start_time": "2023-08-18T10:02:52.554597",
     "status": "completed"
    },
    "tags": []
   },
   "outputs": [],
   "source": [
    "revenue = np.array([[180,200,220],[24,36,40],[12,18,20]])\n",
    "expenses = np.array([[80,90,100],[10,16,20],[8,10,10]])"
   ]
  },
  {
   "cell_type": "code",
   "execution_count": 3,
   "id": "1eeca35c",
   "metadata": {
    "execution": {
     "iopub.execute_input": "2023-08-18T10:02:52.580274Z",
     "iopub.status.busy": "2023-08-18T10:02:52.579526Z",
     "iopub.status.idle": "2023-08-18T10:02:52.592079Z",
     "shell.execute_reply": "2023-08-18T10:02:52.590780Z"
    },
    "papermill": {
     "duration": 0.020878,
     "end_time": "2023-08-18T10:02:52.594805",
     "exception": false,
     "start_time": "2023-08-18T10:02:52.573927",
     "status": "completed"
    },
    "scrolled": true,
    "tags": []
   },
   "outputs": [
    {
     "data": {
      "text/plain": [
       "array([[100, 110, 120],\n",
       "       [ 14,  20,  20],\n",
       "       [  4,   8,  10]])"
      ]
     },
     "execution_count": 3,
     "metadata": {},
     "output_type": "execute_result"
    }
   ],
   "source": [
    "profit = revenue - expenses\n",
    "profit"
   ]
  },
  {
   "cell_type": "markdown",
   "id": "b401e2e5",
   "metadata": {
    "papermill": {
     "duration": 0.003931,
     "end_time": "2023-08-18T10:02:52.603036",
     "exception": false,
     "start_time": "2023-08-18T10:02:52.599105",
     "status": "completed"
    },
    "tags": []
   },
   "source": [
    "<h3 style='color:blue'>Calculate total sales from units and price per unit using matrix multiplication</h3>"
   ]
  },
  {
   "cell_type": "code",
   "execution_count": 4,
   "id": "65f470c7",
   "metadata": {
    "execution": {
     "iopub.execute_input": "2023-08-18T10:02:52.613957Z",
     "iopub.status.busy": "2023-08-18T10:02:52.613410Z",
     "iopub.status.idle": "2023-08-18T10:02:52.620238Z",
     "shell.execute_reply": "2023-08-18T10:02:52.618644Z"
    },
    "papermill": {
     "duration": 0.015559,
     "end_time": "2023-08-18T10:02:52.622774",
     "exception": false,
     "start_time": "2023-08-18T10:02:52.607215",
     "status": "completed"
    },
    "tags": []
   },
   "outputs": [],
   "source": [
    "price_per_unit = np.array([1000,400,1200])\n",
    "units = np.array([[30,40,50],[5,10,15],[2,5,7]])"
   ]
  },
  {
   "cell_type": "code",
   "execution_count": 5,
   "id": "bba3c8b8",
   "metadata": {
    "execution": {
     "iopub.execute_input": "2023-08-18T10:02:52.633802Z",
     "iopub.status.busy": "2023-08-18T10:02:52.632900Z",
     "iopub.status.idle": "2023-08-18T10:02:52.639642Z",
     "shell.execute_reply": "2023-08-18T10:02:52.638791Z"
    },
    "papermill": {
     "duration": 0.014922,
     "end_time": "2023-08-18T10:02:52.641874",
     "exception": false,
     "start_time": "2023-08-18T10:02:52.626952",
     "status": "completed"
    },
    "scrolled": true,
    "tags": []
   },
   "outputs": [
    {
     "data": {
      "text/plain": [
       "array([[30000, 16000, 60000],\n",
       "       [ 5000,  4000, 18000],\n",
       "       [ 2000,  2000,  8400]])"
      ]
     },
     "execution_count": 5,
     "metadata": {},
     "output_type": "execute_result"
    }
   ],
   "source": [
    "price_per_unit*units"
   ]
  },
  {
   "cell_type": "markdown",
   "id": "16d36d72",
   "metadata": {
    "papermill": {
     "duration": 0.003802,
     "end_time": "2023-08-18T10:02:52.649928",
     "exception": false,
     "start_time": "2023-08-18T10:02:52.646126",
     "status": "completed"
    },
    "tags": []
   },
   "source": [
    "In above case numpy is using broadcasting so it expands price_per_unit array from 1 row, 3 columns to 3 row and 3 columns. Correct way to do matrix multiplication is to use dot product as shown below"
   ]
  },
  {
   "cell_type": "code",
   "execution_count": 6,
   "id": "3dffe865",
   "metadata": {
    "execution": {
     "iopub.execute_input": "2023-08-18T10:02:52.660503Z",
     "iopub.status.busy": "2023-08-18T10:02:52.659670Z",
     "iopub.status.idle": "2023-08-18T10:02:52.667729Z",
     "shell.execute_reply": "2023-08-18T10:02:52.666539Z"
    },
    "papermill": {
     "duration": 0.016448,
     "end_time": "2023-08-18T10:02:52.670317",
     "exception": false,
     "start_time": "2023-08-18T10:02:52.653869",
     "status": "completed"
    },
    "tags": []
   },
   "outputs": [
    {
     "data": {
      "text/plain": [
       "array([34400, 50000, 64400])"
      ]
     },
     "execution_count": 6,
     "metadata": {},
     "output_type": "execute_result"
    }
   ],
   "source": [
    "np.dot(price_per_unit,units)"
   ]
  }
 ],
 "metadata": {
  "kernelspec": {
   "display_name": "Python 3",
   "language": "python",
   "name": "python3"
  },
  "language_info": {
   "codemirror_mode": {
    "name": "ipython",
    "version": 3
   },
   "file_extension": ".py",
   "mimetype": "text/x-python",
   "name": "python",
   "nbconvert_exporter": "python",
   "pygments_lexer": "ipython3",
   "version": "3.10.12"
  },
  "papermill": {
   "default_parameters": {},
   "duration": 14.638199,
   "end_time": "2023-08-18T10:02:53.799785",
   "environment_variables": {},
   "exception": null,
   "input_path": "__notebook__.ipynb",
   "output_path": "__notebook__.ipynb",
   "parameters": {},
   "start_time": "2023-08-18T10:02:39.161586",
   "version": "2.4.0"
  }
 },
 "nbformat": 4,
 "nbformat_minor": 5
}
