{
 "cells": [
  {
   "cell_type": "markdown",
   "id": "7dcd44db",
   "metadata": {
    "papermill": {
     "duration": 0.00689,
     "end_time": "2023-08-18T20:23:30.184795",
     "exception": false,
     "start_time": "2023-08-18T20:23:30.177905",
     "status": "completed"
    },
    "tags": []
   },
   "source": [
    "<h2 style=\"color:blue\" align=\"center\">Tensorboard demo using handwritten digits classification using neural network</h2>"
   ]
  },
  {
   "cell_type": "markdown",
   "id": "20afe8d0",
   "metadata": {
    "papermill": {
     "duration": 0.005554,
     "end_time": "2023-08-18T20:23:30.196575",
     "exception": false,
     "start_time": "2023-08-18T20:23:30.191021",
     "status": "completed"
    },
    "tags": []
   },
   "source": [
    "In this notebook we will classify handwritten digits using a simple neural network which has only input and output layers. We will than add a hidden layer and see how the performance of the model improves"
   ]
  },
  {
   "cell_type": "code",
   "execution_count": 1,
   "id": "79ebb091",
   "metadata": {
    "execution": {
     "iopub.execute_input": "2023-08-18T20:23:30.210492Z",
     "iopub.status.busy": "2023-08-18T20:23:30.209927Z",
     "iopub.status.idle": "2023-08-18T20:23:40.257571Z",
     "shell.execute_reply": "2023-08-18T20:23:40.256558Z"
    },
    "papermill": {
     "duration": 10.058072,
     "end_time": "2023-08-18T20:23:40.260530",
     "exception": false,
     "start_time": "2023-08-18T20:23:30.202458",
     "status": "completed"
    },
    "tags": []
   },
   "outputs": [
    {
     "name": "stderr",
     "output_type": "stream",
     "text": [
      "/opt/conda/lib/python3.10/site-packages/scipy/__init__.py:146: UserWarning: A NumPy version >=1.16.5 and <1.23.0 is required for this version of SciPy (detected version 1.23.5\n",
      "  warnings.warn(f\"A NumPy version >={np_minversion} and <{np_maxversion}\"\n",
      "/opt/conda/lib/python3.10/site-packages/tensorflow_io/python/ops/__init__.py:98: UserWarning: unable to load libtensorflow_io_plugins.so: unable to open file: libtensorflow_io_plugins.so, from paths: ['/opt/conda/lib/python3.10/site-packages/tensorflow_io/python/ops/libtensorflow_io_plugins.so']\n",
      "caused by: ['/opt/conda/lib/python3.10/site-packages/tensorflow_io/python/ops/libtensorflow_io_plugins.so: undefined symbol: _ZN3tsl6StatusC1EN10tensorflow5error4CodeESt17basic_string_viewIcSt11char_traitsIcEENS_14SourceLocationE']\n",
      "  warnings.warn(f\"unable to load libtensorflow_io_plugins.so: {e}\")\n",
      "/opt/conda/lib/python3.10/site-packages/tensorflow_io/python/ops/__init__.py:104: UserWarning: file system plugins are not loaded: unable to open file: libtensorflow_io.so, from paths: ['/opt/conda/lib/python3.10/site-packages/tensorflow_io/python/ops/libtensorflow_io.so']\n",
      "caused by: ['/opt/conda/lib/python3.10/site-packages/tensorflow_io/python/ops/libtensorflow_io.so: undefined symbol: _ZTVN10tensorflow13GcsFileSystemE']\n",
      "  warnings.warn(f\"file system plugins are not loaded: {e}\")\n"
     ]
    }
   ],
   "source": [
    "import tensorflow as tf\n",
    "from tensorflow import keras\n",
    "import matplotlib.pyplot as plt\n",
    "%matplotlib inline\n",
    "import numpy as np"
   ]
  },
  {
   "cell_type": "code",
   "execution_count": 2,
   "id": "85ee7941",
   "metadata": {
    "execution": {
     "iopub.execute_input": "2023-08-18T20:23:40.274838Z",
     "iopub.status.busy": "2023-08-18T20:23:40.274105Z",
     "iopub.status.idle": "2023-08-18T20:23:41.807236Z",
     "shell.execute_reply": "2023-08-18T20:23:41.805903Z"
    },
    "papermill": {
     "duration": 1.544744,
     "end_time": "2023-08-18T20:23:41.811468",
     "exception": false,
     "start_time": "2023-08-18T20:23:40.266724",
     "status": "completed"
    },
    "tags": []
   },
   "outputs": [
    {
     "name": "stdout",
     "output_type": "stream",
     "text": [
      "Downloading data from https://storage.googleapis.com/tensorflow/tf-keras-datasets/mnist.npz\n",
      "11490434/11490434 [==============================] - 1s 0us/step\n"
     ]
    }
   ],
   "source": [
    "(X_train, y_train) , (X_test, y_test) = keras.datasets.mnist.load_data()"
   ]
  },
  {
   "cell_type": "code",
   "execution_count": 3,
   "id": "b9c72ac7",
   "metadata": {
    "execution": {
     "iopub.execute_input": "2023-08-18T20:23:41.830061Z",
     "iopub.status.busy": "2023-08-18T20:23:41.829625Z",
     "iopub.status.idle": "2023-08-18T20:23:41.838343Z",
     "shell.execute_reply": "2023-08-18T20:23:41.837079Z"
    },
    "papermill": {
     "duration": 0.021082,
     "end_time": "2023-08-18T20:23:41.841067",
     "exception": false,
     "start_time": "2023-08-18T20:23:41.819985",
     "status": "completed"
    },
    "tags": []
   },
   "outputs": [
    {
     "data": {
      "text/plain": [
       "60000"
      ]
     },
     "execution_count": 3,
     "metadata": {},
     "output_type": "execute_result"
    }
   ],
   "source": [
    "len(X_train)"
   ]
  },
  {
   "cell_type": "code",
   "execution_count": 4,
   "id": "2e4b5dea",
   "metadata": {
    "execution": {
     "iopub.execute_input": "2023-08-18T20:23:41.858767Z",
     "iopub.status.busy": "2023-08-18T20:23:41.858375Z",
     "iopub.status.idle": "2023-08-18T20:23:41.865859Z",
     "shell.execute_reply": "2023-08-18T20:23:41.864610Z"
    },
    "papermill": {
     "duration": 0.019616,
     "end_time": "2023-08-18T20:23:41.868572",
     "exception": false,
     "start_time": "2023-08-18T20:23:41.848956",
     "status": "completed"
    },
    "tags": []
   },
   "outputs": [
    {
     "data": {
      "text/plain": [
       "10000"
      ]
     },
     "execution_count": 4,
     "metadata": {},
     "output_type": "execute_result"
    }
   ],
   "source": [
    "len(X_test)"
   ]
  },
  {
   "cell_type": "code",
   "execution_count": 5,
   "id": "cf3f1c69",
   "metadata": {
    "execution": {
     "iopub.execute_input": "2023-08-18T20:23:41.887094Z",
     "iopub.status.busy": "2023-08-18T20:23:41.886654Z",
     "iopub.status.idle": "2023-08-18T20:23:41.894789Z",
     "shell.execute_reply": "2023-08-18T20:23:41.893376Z"
    },
    "papermill": {
     "duration": 0.020599,
     "end_time": "2023-08-18T20:23:41.897527",
     "exception": false,
     "start_time": "2023-08-18T20:23:41.876928",
     "status": "completed"
    },
    "tags": []
   },
   "outputs": [
    {
     "data": {
      "text/plain": [
       "(28, 28)"
      ]
     },
     "execution_count": 5,
     "metadata": {},
     "output_type": "execute_result"
    }
   ],
   "source": [
    "X_train[0].shape"
   ]
  },
  {
   "cell_type": "code",
   "execution_count": 6,
   "id": "938fe859",
   "metadata": {
    "execution": {
     "iopub.execute_input": "2023-08-18T20:23:41.916228Z",
     "iopub.status.busy": "2023-08-18T20:23:41.915786Z",
     "iopub.status.idle": "2023-08-18T20:23:42.398025Z",
     "shell.execute_reply": "2023-08-18T20:23:42.397093Z"
    },
    "papermill": {
     "duration": 0.494692,
     "end_time": "2023-08-18T20:23:42.400616",
     "exception": false,
     "start_time": "2023-08-18T20:23:41.905924",
     "status": "completed"
    },
    "tags": []
   },
   "outputs": [
    {
     "data": {
      "text/plain": [
       "<matplotlib.image.AxesImage at 0x78d7638b6aa0>"
      ]
     },
     "execution_count": 6,
     "metadata": {},
     "output_type": "execute_result"
    },
    {
     "data": {
      "image/png": "[encoded data removed]",
      "text/plain": [
       "<Figure size 480x480 with 1 Axes>"
      ]
     },
     "metadata": {},
     "output_type": "display_data"
    }
   ],
   "source": [
    "plt.matshow(X_train[0])"
   ]
  },
  {
   "cell_type": "code",
   "execution_count": 7,
   "id": "6db971c5",
   "metadata": {
    "execution": {
     "iopub.execute_input": "2023-08-18T20:23:42.422766Z",
     "iopub.status.busy": "2023-08-18T20:23:42.422278Z",
     "iopub.status.idle": "2023-08-18T20:23:42.428753Z",
     "shell.execute_reply": "2023-08-18T20:23:42.427847Z"
    },
    "papermill": {
     "duration": 0.021439,
     "end_time": "2023-08-18T20:23:42.431024",
     "exception": false,
     "start_time": "2023-08-18T20:23:42.409585",
     "status": "completed"
    },
    "tags": []
   },
   "outputs": [
    {
     "data": {
      "text/plain": [
       "5"
      ]
     },
     "execution_count": 7,
     "metadata": {},
     "output_type": "execute_result"
    }
   ],
   "source": [
    "y_train[0]"
   ]
  },
  {
   "cell_type": "code",
   "execution_count": 8,
   "id": "d5dded73",
   "metadata": {
    "execution": {
     "iopub.execute_input": "2023-08-18T20:23:42.451062Z",
     "iopub.status.busy": "2023-08-18T20:23:42.449976Z",
     "iopub.status.idle": "2023-08-18T20:23:42.643688Z",
     "shell.execute_reply": "2023-08-18T20:23:42.642430Z"
    },
    "papermill": {
     "duration": 0.206798,
     "end_time": "2023-08-18T20:23:42.646725",
     "exception": false,
     "start_time": "2023-08-18T20:23:42.439927",
     "status": "completed"
    },
    "tags": []
   },
   "outputs": [],
   "source": [
    "X_train = X_train / 255\n",
    "X_test = X_test / 255"
   ]
  },
  {
   "cell_type": "code",
   "execution_count": 9,
   "id": "dc62e19b",
   "metadata": {
    "execution": {
     "iopub.execute_input": "2023-08-18T20:23:42.666438Z",
     "iopub.status.busy": "2023-08-18T20:23:42.665977Z",
     "iopub.status.idle": "2023-08-18T20:23:42.672342Z",
     "shell.execute_reply": "2023-08-18T20:23:42.671060Z"
    },
    "papermill": {
     "duration": 0.01904,
     "end_time": "2023-08-18T20:23:42.674785",
     "exception": false,
     "start_time": "2023-08-18T20:23:42.655745",
     "status": "completed"
    },
    "tags": []
   },
   "outputs": [],
   "source": [
    "X_train_flattened = X_train.reshape(len(X_train), 28*28)\n",
    "X_test_flattened = X_test.reshape(len(X_test), 28*28)"
   ]
  },
  {
   "cell_type": "code",
   "execution_count": 10,
   "id": "fdc894cd",
   "metadata": {
    "execution": {
     "iopub.execute_input": "2023-08-18T20:23:42.694634Z",
     "iopub.status.busy": "2023-08-18T20:23:42.694185Z",
     "iopub.status.idle": "2023-08-18T20:23:42.701959Z",
     "shell.execute_reply": "2023-08-18T20:23:42.700785Z"
    },
    "papermill": {
     "duration": 0.020886,
     "end_time": "2023-08-18T20:23:42.704636",
     "exception": false,
     "start_time": "2023-08-18T20:23:42.683750",
     "status": "completed"
    },
    "tags": []
   },
   "outputs": [
    {
     "data": {
      "text/plain": [
       "(60000, 784)"
      ]
     },
     "execution_count": 10,
     "metadata": {},
     "output_type": "execute_result"
    }
   ],
   "source": [
    "X_train_flattened.shape"
   ]
  },
  {
   "cell_type": "markdown",
   "id": "5e9381eb",
   "metadata": {
    "papermill": {
     "duration": 0.008612,
     "end_time": "2023-08-18T20:23:42.722422",
     "exception": false,
     "start_time": "2023-08-18T20:23:42.713810",
     "status": "completed"
    },
    "tags": []
   },
   "source": [
    "<h3 style='color:purple'>Using Flatten layer so that we don't have to call .reshape on input dataset</h3>"
   ]
  },
  {
   "cell_type": "code",
   "execution_count": 11,
   "id": "34b99a09",
   "metadata": {
    "execution": {
     "iopub.execute_input": "2023-08-18T20:23:42.742202Z",
     "iopub.status.busy": "2023-08-18T20:23:42.741769Z",
     "iopub.status.idle": "2023-08-18T20:24:13.461267Z",
     "shell.execute_reply": "2023-08-18T20:24:13.459954Z"
    },
    "papermill": {
     "duration": 30.732754,
     "end_time": "2023-08-18T20:24:13.464115",
     "exception": false,
     "start_time": "2023-08-18T20:23:42.731361",
     "status": "completed"
    },
    "tags": []
   },
   "outputs": [
    {
     "name": "stdout",
     "output_type": "stream",
     "text": [
      "Epoch 1/5\n",
      "1875/1875 [==============================] - 7s 3ms/step - loss: 0.2666 - accuracy: 0.9243\n",
      "Epoch 2/5\n",
      "1875/1875 [==============================] - 6s 3ms/step - loss: 0.1184 - accuracy: 0.9652\n",
      "Epoch 3/5\n",
      "1875/1875 [==============================] - 6s 3ms/step - loss: 0.0854 - accuracy: 0.9743\n",
      "Epoch 4/5\n",
      "1875/1875 [==============================] - 6s 3ms/step - loss: 0.0649 - accuracy: 0.9804\n",
      "Epoch 5/5\n",
      "1875/1875 [==============================] - 6s 3ms/step - loss: 0.0506 - accuracy: 0.9846\n"
     ]
    },
    {
     "data": {
      "text/plain": [
       "<keras.callbacks.History at 0x78d7026e7460>"
      ]
     },
     "execution_count": 11,
     "metadata": {},
     "output_type": "execute_result"
    }
   ],
   "source": [
    "model = keras.Sequential([\n",
    "    keras.layers.Flatten(input_shape=(28, 28)),\n",
    "    keras.layers.Dense(100, activation='relu'),\n",
    "    keras.layers.Dense(10, activation='sigmoid')\n",
    "])\n",
    "\n",
    "model.compile(optimizer='adam',\n",
    "              loss='sparse_categorical_crossentropy',\n",
    "              metrics=['accuracy'])\n",
    "\n",
    "tb_callback = tf.keras.callbacks.TensorBoard(log_dir=\"logs/\", histogram_freq=1)\n",
    "\n",
    "model.fit(X_train, y_train, epochs=5, callbacks=[tb_callback])"
   ]
  },
  {
   "cell_type": "code",
   "execution_count": 12,
   "id": "92fabec9",
   "metadata": {
    "execution": {
     "iopub.execute_input": "2023-08-18T20:24:13.588177Z",
     "iopub.status.busy": "2023-08-18T20:24:13.586919Z",
     "iopub.status.idle": "2023-08-18T20:24:13.592173Z",
     "shell.execute_reply": "2023-08-18T20:24:13.591293Z"
    },
    "papermill": {
     "duration": 0.069759,
     "end_time": "2023-08-18T20:24:13.594481",
     "exception": false,
     "start_time": "2023-08-18T20:24:13.524722",
     "status": "completed"
    },
    "tags": []
   },
   "outputs": [],
   "source": [
    "# %load_ext tensorboard\n",
    "# %tensorboard --logdir logs/fit"
   ]
  },
  {
   "cell_type": "markdown",
   "id": "9092a305",
   "metadata": {
    "papermill": {
     "duration": 0.059493,
     "end_time": "2023-08-18T20:24:13.714808",
     "exception": false,
     "start_time": "2023-08-18T20:24:13.655315",
     "status": "completed"
    },
    "tags": []
   },
   "source": [
    "Either run above inline magic or go to git bash or your command prompt and type below to run it,\n",
    "`tensorboard --logdir logs/`\n",
    "This will launch tensorboard at this url which you can open in your browser `http://localhost:6006/`"
   ]
  },
  {
   "cell_type": "code",
   "execution_count": 13,
   "id": "66680621",
   "metadata": {
    "execution": {
     "iopub.execute_input": "2023-08-18T20:24:13.837849Z",
     "iopub.status.busy": "2023-08-18T20:24:13.837425Z",
     "iopub.status.idle": "2023-08-18T20:24:13.863693Z",
     "shell.execute_reply": "2023-08-18T20:24:13.862354Z"
    },
    "papermill": {
     "duration": 0.091199,
     "end_time": "2023-08-18T20:24:13.866580",
     "exception": false,
     "start_time": "2023-08-18T20:24:13.775381",
     "status": "completed"
    },
    "tags": []
   },
   "outputs": [
    {
     "data": {
      "text/plain": [
       "[array([[ 0.02919866, -0.00890847, -0.06737091, ..., -0.04672107,\n",
       "          0.05798234,  0.05912012],\n",
       "        [-0.00591426, -0.05144608,  0.03747564, ...,  0.07257646,\n",
       "          0.04105792,  0.07513015],\n",
       "        [-0.00742217, -0.05564452,  0.01951305, ..., -0.00027491,\n",
       "          0.01696891,  0.00611508],\n",
       "        ...,\n",
       "        [-0.07019929,  0.06324899,  0.00235588, ...,  0.0381759 ,\n",
       "         -0.04897179,  0.00839363],\n",
       "        [ 0.03650251, -0.06396905,  0.02201187, ...,  0.06279637,\n",
       "          0.06047143,  0.02115158],\n",
       "        [-0.02688124, -0.03318214, -0.03336008, ...,  0.04756506,\n",
       "          0.04846671,  0.0556187 ]], dtype=float32),\n",
       " array([-0.03231893, -0.04123252,  0.13718487,  0.03164708, -0.01492453,\n",
       "        -0.01084057,  0.07679241,  0.04496027,  0.08565881,  0.06982323,\n",
       "         0.21569945,  0.08278927,  0.23847082,  0.05575114,  0.03539028,\n",
       "        -0.0699224 , -0.00312407, -0.00640346,  0.1311839 ,  0.04454007,\n",
       "         0.07405014,  0.05069314, -0.13502567,  0.1355717 , -0.06489475,\n",
       "        -0.07521015,  0.06980292, -0.02124829, -0.02650421,  0.12260908,\n",
       "         0.0468824 ,  0.05217994,  0.19209178, -0.02300617,  0.04004395,\n",
       "        -0.02960233,  0.15047725,  0.07932448,  0.12398807, -0.12357766,\n",
       "         0.20384747, -0.00093197, -0.06633382,  0.07591042, -0.04608334,\n",
       "        -0.13142087,  0.00320501, -0.05560218,  0.0052318 ,  0.04531011,\n",
       "        -0.12912188,  0.08939023,  0.04482419, -0.03203137,  0.06765109,\n",
       "         0.14634916, -0.12545845,  0.10262291,  0.07867373, -0.1035669 ,\n",
       "         0.05016322,  0.14121795,  0.06913171,  0.03042143,  0.1546419 ,\n",
       "         0.08710685, -0.05104787, -0.02758448, -0.02379336,  0.06221695,\n",
       "        -0.00285786, -0.00254092, -0.03879788,  0.12606315,  0.07418895,\n",
       "         0.22546312, -0.07757   , -0.04152564,  0.05107402, -0.05108837,\n",
       "        -0.04802633, -0.01328534,  0.04222028,  0.06894682, -0.0807943 ,\n",
       "         0.1927968 ,  0.01756803,  0.00156167,  0.06050633,  0.04570052,\n",
       "        -0.01914848, -0.01523096,  0.00765297, -0.01275223, -0.02398297,\n",
       "        -0.00341422,  0.00290879,  0.07271541,  0.03152907,  0.07014389],\n",
       "       dtype=float32),\n",
       " array([[ 7.91184157e-02, -6.91713989e-01, -4.80115473e-01,\n",
       "         -1.80073097e-01,  2.27153480e-01,  3.55796337e-01,\n",
       "         -2.24755164e-02,  6.99579567e-02,  7.07272626e-03,\n",
       "          1.89496636e-01],\n",
       "        [-7.99147636e-02, -1.93723161e-02,  2.83382684e-02,\n",
       "          6.89377123e-03,  1.27029017e-01,  2.43891012e-02,\n",
       "         -1.81006771e-02,  3.09003163e-02,  9.20551345e-02,\n",
       "          1.43480927e-01],\n",
       "        [-3.03719550e-01,  5.55733800e-01, -5.56652434e-02,\n",
       "          5.25751971e-02,  2.24341303e-01, -7.47865319e-01,\n",
       "          1.56851098e-01,  1.65093139e-01, -2.73467392e-01,\n",
       "         -9.44073647e-02],\n",
       "        [ 1.16570160e-01,  1.99497312e-01,  2.78763294e-01,\n",
       "         -2.78768450e-01, -1.53277189e-01,  2.97801673e-01,\n",
       "         -1.04869142e-01,  3.55768174e-01, -3.50427032e-01,\n",
       "         -3.11511278e-01],\n",
       "        [ 1.64299279e-01, -1.80780828e-01, -1.97640151e-01,\n",
       "          2.32740492e-01, -3.60069573e-01,  6.06181957e-02,\n",
       "         -9.81963053e-02,  1.90225393e-01, -5.32480597e-01,\n",
       "         -1.67812929e-01],\n",
       "        [ 1.65843964e-01,  1.97141673e-02, -2.43708357e-01,\n",
       "          3.17192942e-01, -4.79478359e-01,  2.29270801e-01,\n",
       "          3.57920200e-01, -4.45491344e-01, -4.50037681e-02,\n",
       "          1.03803039e-01],\n",
       "        [ 8.34280252e-02, -2.33724952e-01, -6.84678257e-02,\n",
       "         -1.45629328e-03,  5.37752062e-02,  1.19342534e-02,\n",
       "          1.32229654e-02, -2.76828825e-01,  9.93157551e-02,\n",
       "         -1.11712694e-01],\n",
       "        [-2.74239898e-01,  1.68443844e-01, -1.16497673e-01,\n",
       "          7.40069449e-02, -9.10836682e-02,  1.03775412e-01,\n",
       "          2.56020814e-01, -3.04284334e-01,  1.23138726e-01,\n",
       "         -9.59395021e-02],\n",
       "        [-2.49441460e-01, -3.92589927e-01,  3.40974301e-01,\n",
       "          1.76187038e-01,  2.06252709e-01,  7.64911529e-03,\n",
       "          1.73835337e-01, -4.58321154e-01, -9.84715521e-02,\n",
       "          2.84397513e-01],\n",
       "        [-4.26121861e-01, -1.23187020e-01, -7.77279139e-02,\n",
       "          6.72390237e-02, -1.70678198e-01,  3.23082894e-01,\n",
       "          1.74383059e-01, -9.92910638e-02,  5.12521602e-02,\n",
       "         -1.77833706e-01],\n",
       "        [-2.93671936e-01,  1.61866173e-01, -7.39695072e-01,\n",
       "         -6.06149137e-01, -7.44479075e-02,  5.41983604e-01,\n",
       "          3.71819586e-01, -1.27605379e-01,  7.28456378e-02,\n",
       "          7.47366995e-02],\n",
       "        [-5.66166341e-01,  2.37433404e-01,  9.33748335e-02,\n",
       "          3.95149253e-02,  4.47665304e-01, -5.32990582e-02,\n",
       "         -1.43480524e-01, -2.05200419e-01, -1.65746778e-01,\n",
       "         -6.99436188e-01],\n",
       "        [-1.39038488e-01, -2.52317518e-01,  2.03124806e-01,\n",
       "         -3.36996555e-01,  2.28625506e-01,  2.62028664e-01,\n",
       "          3.03146809e-01, -2.63618737e-01, -1.06462896e-01,\n",
       "         -2.29676947e-01],\n",
       "        [ 3.28390092e-01,  2.74589926e-01, -1.91629261e-01,\n",
       "         -1.58543617e-01, -4.88061756e-01, -1.27541963e-02,\n",
       "          1.69523135e-01,  4.73814271e-02,  2.33230680e-01,\n",
       "          6.60755709e-02],\n",
       "        [-3.12791467e-01,  5.01144648e-01, -2.23011881e-01,\n",
       "         -3.78380626e-01,  2.32639134e-01, -5.57044446e-01,\n",
       "          4.47458655e-01,  3.03020626e-01,  8.77443701e-02,\n",
       "         -1.01422621e-02],\n",
       "        [-2.62617409e-01,  1.95972010e-01,  1.69241071e-01,\n",
       "          1.76253662e-01, -4.46563244e-01,  2.42008299e-01,\n",
       "         -3.85788918e-01, -1.19531773e-01,  2.51595974e-01,\n",
       "          1.65396824e-01],\n",
       "        [-2.45865345e-01,  3.72727394e-01, -3.81157279e-01,\n",
       "         -5.50715089e-01, -7.30474992e-03, -2.46519119e-01,\n",
       "          2.74083138e-01,  2.92556733e-01,  6.53123856e-02,\n",
       "          9.54950750e-02],\n",
       "        [-7.29381084e-01, -3.48251536e-02,  5.28476775e-01,\n",
       "          5.20966388e-02, -3.88288796e-01,  8.03360119e-02,\n",
       "         -1.15292296e-01,  2.26547733e-01,  1.55836403e-01,\n",
       "         -8.97882521e-01],\n",
       "        [ 1.45449385e-01, -2.28479460e-01,  3.10999155e-01,\n",
       "         -1.52960718e-01,  3.69620621e-01,  6.28755540e-02,\n",
       "          1.85431719e-01, -4.69408154e-01, -4.02050585e-01,\n",
       "          2.31833011e-02],\n",
       "        [ 2.33032510e-01,  2.78831691e-01,  1.26653150e-01,\n",
       "         -2.70807445e-01,  4.14426774e-01, -3.51442814e-01,\n",
       "         -2.27884978e-01,  6.58288375e-02, -3.68703753e-01,\n",
       "         -4.79867637e-01],\n",
       "        [-4.69283730e-01, -1.55492544e-01,  6.79410249e-02,\n",
       "         -5.12820423e-01,  2.09185481e-01,  2.48937622e-01,\n",
       "          2.90801823e-01,  4.36309613e-02, -3.28656405e-01,\n",
       "          3.17199945e-01],\n",
       "        [ 1.40117463e-02,  1.60969973e-01,  2.15539426e-01,\n",
       "          2.74728537e-01,  3.40154767e-02,  1.32002532e-01,\n",
       "          3.75710070e-01,  1.91499278e-01, -3.62647623e-01,\n",
       "         -7.33993769e-01],\n",
       "        [ 1.22503348e-01,  1.15795299e-01,  2.07753465e-01,\n",
       "          1.63803294e-01, -1.73161000e-01, -2.33979002e-01,\n",
       "         -1.89551532e-01, -5.29384948e-02,  2.36650273e-01,\n",
       "          1.45063728e-01],\n",
       "        [-4.75109935e-01,  1.54291153e-01,  1.08505249e-01,\n",
       "          7.13287890e-02,  1.93237141e-01, -1.20628349e-01,\n",
       "         -4.73912418e-01,  2.18616500e-01,  7.70569965e-02,\n",
       "          1.15736015e-01],\n",
       "        [ 1.60528645e-01,  2.68802315e-01, -1.88650474e-01,\n",
       "         -4.41196442e-01, -5.21472812e-01,  3.65777075e-01,\n",
       "          4.16377366e-01, -3.48016500e-01, -1.70465723e-01,\n",
       "          2.92594612e-01],\n",
       "        [ 3.04686576e-01, -7.62522966e-03,  2.43262962e-01,\n",
       "          2.07621351e-01, -7.34084010e-01, -1.55380651e-01,\n",
       "         -2.74638444e-01, -8.38293508e-02, -1.99568346e-01,\n",
       "         -1.60233915e-01],\n",
       "        [-2.11423516e-01, -9.88927782e-01, -3.87170948e-02,\n",
       "          1.69930246e-03,  8.63899365e-02,  1.81524932e-01,\n",
       "          1.43154204e-01, -4.76647079e-01,  4.20338988e-01,\n",
       "          2.67513674e-02],\n",
       "        [ 8.17316547e-02, -3.00259024e-01, -1.19821995e-01,\n",
       "          1.95409045e-01,  1.77161008e-01, -6.04786687e-02,\n",
       "         -1.16362117e-01,  7.23413974e-02,  1.42293155e-01,\n",
       "          2.07839653e-01],\n",
       "        [-1.16162561e-01,  3.81982565e-01, -1.59702823e-01,\n",
       "         -3.34221005e-01, -4.58051749e-02, -4.80646312e-01,\n",
       "          4.42714989e-01, -1.07590193e-02, -6.47980750e-01,\n",
       "          3.48897934e-01],\n",
       "        [-3.09444487e-01, -5.28434575e-01,  1.72708496e-01,\n",
       "         -1.55552894e-01, -5.29038072e-01,  3.58220398e-01,\n",
       "         -5.48705518e-01,  3.06459755e-01, -1.23512819e-01,\n",
       "          1.26336962e-01],\n",
       "        [ 3.35909516e-01, -6.14159741e-02,  2.05246210e-01,\n",
       "         -4.34401892e-02,  1.14765108e-01,  2.74021700e-02,\n",
       "          7.66039044e-02, -2.55762607e-01,  2.83143222e-01,\n",
       "          2.03911364e-01],\n",
       "        [-1.34904698e-01,  1.52472377e-01,  2.17431545e-01,\n",
       "         -4.82809126e-01, -3.15685004e-01, -3.07654709e-01,\n",
       "          2.59540290e-01,  1.28073432e-02,  4.81398433e-01,\n",
       "         -9.60176587e-01],\n",
       "        [ 8.69932696e-02, -1.76810876e-01,  1.43698290e-01,\n",
       "          6.55035973e-02, -6.58587694e-01,  1.85909182e-01,\n",
       "         -5.90950191e-01,  3.70577991e-01, -2.99424231e-01,\n",
       "         -7.64177740e-02],\n",
       "        [-2.20581055e-01,  1.01740891e-02, -4.84485716e-01,\n",
       "          4.75031614e-01, -1.42670959e-01,  5.28605878e-01,\n",
       "         -3.76964301e-01, -2.46453792e-01, -1.54332906e-01,\n",
       "          2.89032996e-01],\n",
       "        [-1.23062298e-01,  4.47232157e-01,  2.00515777e-01,\n",
       "          1.41848713e-01,  1.34811684e-01, -9.76130068e-01,\n",
       "         -4.17383790e-01, -7.46185631e-02, -4.13520932e-01,\n",
       "         -1.76882640e-01],\n",
       "        [ 1.69961259e-01,  1.44786730e-01,  9.63378251e-02,\n",
       "          8.03456679e-02, -2.87626177e-01, -3.18939909e-02,\n",
       "          1.30057901e-01, -2.74099320e-01,  5.87009639e-02,\n",
       "         -2.38946691e-01],\n",
       "        [-7.52696157e-01,  5.24490058e-01, -1.09715253e-01,\n",
       "         -5.98846912e-01,  2.18869448e-01,  2.15807647e-01,\n",
       "         -3.36572915e-01,  1.30627096e-01, -3.45278531e-01,\n",
       "         -2.53149360e-01],\n",
       "        [-2.10109875e-01, -4.10448194e-01,  1.12610251e-01,\n",
       "          9.53516271e-03,  1.69239059e-01, -7.96612054e-02,\n",
       "         -9.40900221e-02,  1.22834824e-01, -3.53802890e-02,\n",
       "          2.21070006e-01],\n",
       "        [ 2.07074165e-01,  1.84316456e-01,  7.11227208e-02,\n",
       "         -3.37212712e-01, -3.39099079e-01,  4.87430722e-01,\n",
       "         -2.79590219e-01, -2.22601563e-01, -6.12737834e-01,\n",
       "         -1.63780227e-01],\n",
       "        [ 7.30863139e-02, -1.66361257e-01,  9.86111537e-02,\n",
       "          2.01696470e-01, -8.51898015e-01, -1.23001345e-01,\n",
       "         -4.40026075e-01,  5.91791868e-02,  3.87168080e-02,\n",
       "         -3.84170674e-02],\n",
       "        [-4.69860703e-01,  2.99221247e-01,  3.11737537e-01,\n",
       "         -7.93889612e-02,  1.81777358e-01,  1.12730026e-01,\n",
       "          6.34550378e-02, -4.49713320e-01,  1.64830342e-01,\n",
       "          2.32789200e-02],\n",
       "        [-2.45865472e-02, -3.03122491e-01,  1.31609648e-01,\n",
       "         -1.67975992e-01, -9.58480537e-02, -3.79137248e-01,\n",
       "         -2.78807521e-01,  1.84169486e-01, -2.76355803e-01,\n",
       "          2.23666579e-01],\n",
       "        [-3.45682800e-01,  2.52666742e-01, -7.23660365e-02,\n",
       "          1.57808691e-01,  2.56684929e-01, -7.78124928e-01,\n",
       "         -6.65412784e-01, -9.90524814e-02,  1.17442265e-01,\n",
       "         -1.29992748e-02],\n",
       "        [-7.49930382e-01, -2.65026480e-01, -2.31242642e-01,\n",
       "          3.79587948e-01,  2.69414872e-01,  3.86844486e-01,\n",
       "         -1.10664642e+00, -1.23520620e-01, -5.29668391e-01,\n",
       "          3.07876319e-01],\n",
       "        [-7.46470466e-02, -6.07629180e-01, -8.22478890e-01,\n",
       "          4.22577739e-01, -9.29414406e-02,  3.55497897e-01,\n",
       "         -3.65151793e-01, -3.67100716e-01, -1.14704758e-01,\n",
       "          4.80507225e-01],\n",
       "        [ 4.86929854e-03,  3.31535101e-01, -4.25549328e-01,\n",
       "          3.57243747e-01, -5.22536159e-01, -2.78968990e-01,\n",
       "          1.26065642e-01,  4.51636791e-01, -9.05296057e-02,\n",
       "         -6.93920314e-01],\n",
       "        [-4.26316023e-01,  1.16859913e-01,  2.44445056e-01,\n",
       "         -6.04247116e-03, -4.94160295e-01,  2.14694366e-01,\n",
       "         -1.01570167e-01,  3.79160345e-01, -3.43306363e-01,\n",
       "         -9.30059671e-01],\n",
       "        [-5.52245975e-01,  3.20698053e-01, -1.82079911e-01,\n",
       "          2.94767588e-01,  5.38553810e-04,  5.58698535e-01,\n",
       "         -7.54105270e-01, -1.33522108e-01, -5.28371990e-01,\n",
       "          2.76876330e-01],\n",
       "        [-2.24082097e-01,  6.34062514e-02, -1.73786953e-01,\n",
       "          4.20471393e-02, -3.95843089e-02, -4.67800617e-01,\n",
       "          4.55108106e-01,  2.62254179e-01, -5.16814232e-01,\n",
       "          1.48789898e-01],\n",
       "        [ 2.03991324e-01, -9.87384543e-02, -1.23211220e-01,\n",
       "          1.35983124e-01,  1.84606791e-01,  1.44660488e-01,\n",
       "         -8.75133052e-02,  1.58177987e-01,  2.04979628e-01,\n",
       "          1.31028414e-01],\n",
       "        [ 3.44736040e-01, -4.85704914e-02,  3.13900374e-02,\n",
       "          1.59261107e-01,  1.79317109e-02, -4.52340275e-01,\n",
       "          1.16153188e-01, -2.17734110e-02,  7.28413463e-02,\n",
       "          2.99617529e-01],\n",
       "        [ 6.62084892e-02,  1.07802860e-01,  2.03698367e-01,\n",
       "          1.45171121e-01,  3.23953889e-02, -2.99544330e-03,\n",
       "          2.60643572e-01, -5.41074872e-01,  6.45086542e-02,\n",
       "         -4.59659904e-01],\n",
       "        [-1.31458938e-01,  5.00365853e-01, -3.71230215e-01,\n",
       "         -4.08074051e-01,  4.07782048e-01, -2.27918327e-01,\n",
       "          1.99435905e-01, -6.27582595e-02,  6.52413070e-02,\n",
       "         -1.89997315e-01],\n",
       "        [-2.89858997e-01,  5.98403439e-02,  1.67639524e-01,\n",
       "          1.42976388e-01, -2.17159688e-02, -5.34923136e-01,\n",
       "         -2.94684079e-02,  2.99492925e-01,  1.57348469e-01,\n",
       "         -6.03779972e-01],\n",
       "        [ 1.00564323e-01, -2.99276471e-01,  1.39019981e-01,\n",
       "         -1.45628259e-01, -8.78472924e-02, -2.00350806e-01,\n",
       "          4.83518429e-02, -1.30493879e-01,  2.47866333e-01,\n",
       "         -5.42087480e-02],\n",
       "        [ 1.49356425e-01,  5.22534490e-01,  2.10133329e-01,\n",
       "          2.43581906e-01,  4.37867016e-01,  3.06482464e-01,\n",
       "          1.32644162e-01, -2.85481423e-01, -7.20565796e-01,\n",
       "         -3.09190333e-01],\n",
       "        [-2.04363942e-01,  1.36630312e-01, -4.16680098e-01,\n",
       "          5.92022479e-01,  1.24220699e-01, -4.32524920e-01,\n",
       "         -2.99718589e-01,  3.71805429e-01, -5.72907031e-01,\n",
       "         -2.38022715e-01],\n",
       "        [ 3.94873433e-02, -2.23276541e-02, -4.02446926e-01,\n",
       "         -1.10509560e-01,  2.32423376e-03,  2.78858960e-01,\n",
       "          5.11853248e-02, -3.88366103e-01,  4.89813834e-02,\n",
       "          1.56395018e-01],\n",
       "        [-1.07163163e-02, -5.91123044e-01,  4.85258624e-02,\n",
       "         -2.24386334e-01, -3.21117461e-01, -1.83822721e-01,\n",
       "          2.82348186e-01,  1.30803227e-01, -4.82041501e-02,\n",
       "          7.60231018e-02],\n",
       "        [ 1.11538455e-01, -3.71554166e-01,  1.84682563e-01,\n",
       "          2.89175753e-02,  1.30532786e-01, -2.22849369e-01,\n",
       "         -2.49047503e-01, -1.04764730e-01, -1.03382632e-01,\n",
       "          1.73872501e-01],\n",
       "        [ 1.42433897e-01, -2.33464181e-01,  2.02545539e-01,\n",
       "         -8.98877680e-02, -3.85148346e-01,  1.97487742e-01,\n",
       "          7.91636407e-02, -5.26289403e-01,  2.61206508e-01,\n",
       "         -5.89767843e-02],\n",
       "        [ 1.00827560e-01,  1.39880091e-01,  1.71841681e-01,\n",
       "          2.18390092e-01,  3.54013056e-01,  1.62686221e-02,\n",
       "         -1.85536385e-01, -2.71928385e-02,  5.43466955e-02,\n",
       "         -3.72826219e-01],\n",
       "        [-3.07385743e-01,  6.66019917e-02,  1.89716220e-01,\n",
       "          3.45408684e-03, -2.47771770e-01, -9.77948401e-03,\n",
       "          2.28748918e-01,  1.66667879e-01, -7.57706258e-03,\n",
       "         -7.80614495e-01],\n",
       "        [-1.76202953e-01,  1.38657046e-02,  1.90737754e-01,\n",
       "         -2.43419390e-02, -1.33111537e-01, -1.17963187e-01,\n",
       "          3.02452110e-02, -2.63289303e-01,  2.42137969e-01,\n",
       "          1.05105884e-01],\n",
       "        [-5.45662105e-01,  9.73134860e-02, -2.56015122e-01,\n",
       "         -3.56043316e-02,  3.06351483e-01,  2.36366615e-01,\n",
       "         -4.87601757e-01,  1.18741170e-01,  2.74145186e-01,\n",
       "         -1.67862810e-02],\n",
       "        [ 2.78569818e-01, -5.67709357e-02,  3.54246311e-02,\n",
       "         -2.92657733e-01,  1.34270564e-02,  1.03040569e-01,\n",
       "         -4.45446044e-01,  1.23392180e-01,  1.57924294e-01,\n",
       "          4.07954678e-02],\n",
       "        [-3.90864879e-01,  7.84438401e-02, -9.96039435e-02,\n",
       "          2.09268823e-01, -2.24895522e-01, -7.63556063e-02,\n",
       "         -2.68614620e-01, -1.69711020e-02,  1.32689208e-01,\n",
       "         -7.86515847e-02],\n",
       "        [ 3.33453864e-02,  6.99203163e-02, -7.67964542e-01,\n",
       "          9.17551368e-02,  4.40206319e-01, -1.94686294e-01,\n",
       "         -3.35291713e-01, -2.18794450e-01,  1.06191404e-01,\n",
       "          2.71498829e-01],\n",
       "        [ 3.02530527e-01, -3.00220013e-01, -1.76554650e-01,\n",
       "          2.85670161e-01,  2.58648157e-01, -1.29217118e-01,\n",
       "         -4.91952419e-01, -3.72383706e-02, -4.52684194e-01,\n",
       "          3.20543468e-01],\n",
       "        [-8.32259357e-02, -2.05019563e-01, -2.15765417e-01,\n",
       "         -2.84033958e-02,  2.90374849e-02,  6.65853396e-02,\n",
       "          1.02058940e-01,  4.02299389e-02,  2.60284305e-01,\n",
       "          1.15647778e-01],\n",
       "        [-2.41791278e-01, -4.41332050e-02,  2.89406478e-02,\n",
       "          7.34151602e-02, -1.38684437e-01,  4.12834920e-02,\n",
       "          1.90217674e-01, -1.51810735e-01,  1.24809742e-02,\n",
       "          2.99952384e-02],\n",
       "        [-6.86283484e-02, -3.74179095e-01, -2.77785771e-02,\n",
       "          1.53101578e-01,  1.37831777e-01, -1.00298777e-01,\n",
       "          8.59927461e-02, -1.60856009e-01, -7.58084357e-02,\n",
       "         -6.75261989e-02],\n",
       "        [-3.33316416e-01, -1.83810264e-01,  4.55849478e-03,\n",
       "          4.08920527e-01, -6.63862050e-01,  2.99424291e-01,\n",
       "         -2.21494272e-01,  3.28772455e-01,  2.22045854e-01,\n",
       "          1.11411251e-01],\n",
       "        [ 2.09187716e-01,  3.73730920e-02,  1.63840324e-01,\n",
       "         -2.74062216e-01,  1.47561893e-01,  5.98872639e-02,\n",
       "         -3.05350482e-01,  3.33524376e-01, -6.45881176e-01,\n",
       "          8.92927051e-02],\n",
       "        [-4.95491214e-02, -3.01386654e-01, -6.38280571e-01,\n",
       "         -1.55346572e-01,  1.97950453e-01,  1.04254887e-01,\n",
       "         -4.15015966e-02, -1.15642041e-01,  3.94756906e-02,\n",
       "         -2.67748445e-01],\n",
       "        [ 1.55285820e-01,  2.30995908e-01, -1.30499965e-02,\n",
       "          2.93303616e-02,  2.75844842e-01,  1.25949591e-01,\n",
       "         -3.58915841e-03,  4.97183621e-01, -2.38818690e-01,\n",
       "         -7.51510978e-01],\n",
       "        [-2.11082175e-01,  3.32580388e-01,  2.98793644e-01,\n",
       "          2.83704251e-02, -2.83301353e-01, -4.24154133e-01,\n",
       "         -4.61434484e-01,  3.42328846e-01, -2.61224002e-01,\n",
       "          2.02957764e-01],\n",
       "        [ 4.59242165e-02, -3.44841897e-01,  1.17236800e-01,\n",
       "          2.85678595e-01,  7.11295977e-02,  3.58505040e-01,\n",
       "         -3.32737595e-01, -3.80547702e-01, -4.84034896e-01,\n",
       "          2.83356398e-01],\n",
       "        [ 2.99154788e-01,  2.67478861e-02,  4.69689220e-01,\n",
       "          2.78130710e-01, -3.88618946e-01, -4.52783972e-01,\n",
       "         -5.81330776e-01,  2.60351181e-01, -6.52246103e-02,\n",
       "          2.13974029e-01],\n",
       "        [-2.01394081e-01, -1.74671724e-01, -2.38559052e-01,\n",
       "          1.81699783e-01, -1.55030740e-02,  1.00752763e-01,\n",
       "         -1.51737988e-01, -1.60273641e-01,  1.19837314e-01,\n",
       "         -1.19737335e-01],\n",
       "        [-5.59397519e-01,  2.42570266e-02,  2.13331833e-01,\n",
       "          2.66642660e-01, -3.96559000e-01,  6.26070276e-02,\n",
       "         -7.98008263e-01,  2.07365096e-01, -9.02100001e-03,\n",
       "          1.35103136e-01],\n",
       "        [ 1.67815328e-01, -8.20718035e-02,  2.08522111e-01,\n",
       "         -3.82913083e-01,  2.34439105e-01, -6.13845289e-01,\n",
       "          1.07732758e-01,  9.07700509e-02, -3.83203700e-02,\n",
       "          1.69833183e-01],\n",
       "        [-3.47687870e-01,  1.72114313e-01, -4.87772197e-01,\n",
       "         -4.02551800e-01,  3.89686465e-01, -2.00821802e-01,\n",
       "         -5.44702113e-01,  5.06919742e-01, -3.69781554e-01,\n",
       "          3.22491139e-01],\n",
       "        [ 7.86511078e-02, -2.94352770e-01,  3.51692677e-01,\n",
       "          2.74514388e-02, -1.46012172e-01,  1.36192650e-01,\n",
       "          2.25827709e-01,  5.00105560e-01, -4.19606566e-01,\n",
       "         -6.86375260e-01],\n",
       "        [ 2.92457670e-01, -8.93599447e-03, -1.51113406e-01,\n",
       "          1.99553594e-01, -6.50284469e-01,  5.10537438e-02,\n",
       "          2.55125761e-01, -2.10227340e-01, -2.35216282e-02,\n",
       "         -1.91681787e-01],\n",
       "        [ 7.59110525e-02, -4.52336930e-02,  1.09275214e-01,\n",
       "         -1.57190308e-01,  1.23545453e-01,  1.93119988e-01,\n",
       "          1.84049040e-01,  2.74310447e-02,  1.20760061e-01,\n",
       "         -3.69991899e-01],\n",
       "        [ 2.90437758e-01, -2.06152037e-01, -1.18160680e-01,\n",
       "         -2.42823869e-01, -8.36425781e-01,  3.18905383e-01,\n",
       "          4.73129749e-01, -3.43040615e-01, -1.23686381e-01,\n",
       "          2.45468523e-02],\n",
       "        [ 8.50552320e-02,  7.39959553e-02, -2.59277940e-01,\n",
       "          1.67597309e-02,  1.71699613e-01, -7.34031647e-02,\n",
       "          2.38136500e-01,  1.29037872e-01,  2.30649695e-01,\n",
       "          9.79160294e-02],\n",
       "        [ 4.51169834e-02, -6.32040262e-01, -2.43568406e-01,\n",
       "         -7.95694366e-02, -8.57590288e-02, -8.82557407e-02,\n",
       "          3.92708555e-02,  9.57495421e-02, -3.42076533e-02,\n",
       "         -1.55641571e-01],\n",
       "        [ 4.24929917e-01,  1.90270036e-01,  4.76957649e-01,\n",
       "         -5.48390970e-02, -8.29672754e-01,  1.87618911e-01,\n",
       "         -1.56193182e-01, -2.66622990e-01, -2.21606433e-01,\n",
       "         -1.24458686e-01],\n",
       "        [ 3.13808829e-01, -2.33700544e-01, -7.80861616e-01,\n",
       "         -2.56589711e-01,  3.73208299e-02,  2.08044946e-01,\n",
       "          2.35973120e-01,  4.25969064e-01, -2.17343599e-01,\n",
       "          2.45962888e-01],\n",
       "        [-8.72614801e-01,  5.44978119e-02, -1.65633500e-01,\n",
       "          1.12507395e-01,  1.88461915e-01,  9.76634622e-02,\n",
       "         -4.61727738e-01, -4.53661233e-01,  2.52096146e-01,\n",
       "          2.37797841e-01],\n",
       "        [ 3.67108285e-01,  3.70070547e-01, -3.18909317e-01,\n",
       "         -5.55443227e-01,  1.21312700e-01, -2.73309559e-01,\n",
       "          6.42874762e-02, -1.60690829e-01, -6.48853123e-01,\n",
       "          1.81334138e-01],\n",
       "        [-4.41951528e-02, -2.17689008e-01, -3.20389718e-01,\n",
       "          3.13590020e-01, -6.20104492e-01,  4.04936790e-01,\n",
       "          3.39060038e-01,  3.24703693e-01, -8.45347717e-03,\n",
       "         -2.59439439e-01],\n",
       "        [ 1.00533292e-01,  1.82507530e-01,  2.01749384e-01,\n",
       "         -1.00417823e-01,  1.53249055e-01, -6.69376075e-01,\n",
       "         -7.07697049e-02,  1.17383422e-02,  1.51518568e-01,\n",
       "          2.14279637e-01],\n",
       "        [ 1.67190313e-01, -4.11692291e-01, -7.81868678e-03,\n",
       "         -2.67992262e-02,  2.47125234e-03, -1.43109858e-01,\n",
       "         -2.03405380e-01,  1.70762241e-01,  1.56815022e-01,\n",
       "          1.44041613e-01],\n",
       "        [-4.48663682e-01, -4.03513253e-01,  5.38645778e-03,\n",
       "          2.40298271e-01, -1.41157612e-01,  1.58081949e-01,\n",
       "          2.71140621e-03,  1.02503903e-01,  2.59595424e-01,\n",
       "         -1.94312721e-01],\n",
       "        [-1.04757704e-01, -2.46996984e-01, -2.94070005e-01,\n",
       "          3.75679769e-02, -2.90775299e-02,  2.32173026e-01,\n",
       "          6.64672181e-02,  1.76945418e-01,  1.26697823e-01,\n",
       "          1.27659991e-01],\n",
       "        [ 2.94145465e-01, -3.76339778e-02,  2.15423957e-01,\n",
       "         -1.91271305e-01,  3.78301978e-01, -1.92353368e-01,\n",
       "         -4.06167865e-01,  1.65373862e-01,  8.75590220e-02,\n",
       "          1.84870914e-01],\n",
       "        [ 6.16051704e-02,  2.43007034e-01,  2.69001305e-01,\n",
       "         -5.17665803e-01, -2.26443753e-01, -1.39747411e-01,\n",
       "          1.97062239e-01, -1.75430164e-01,  3.12983423e-01,\n",
       "          3.47001739e-02]], dtype=float32),\n",
       " array([-0.11899529, -0.10360199,  0.03483676, -0.11967602,  0.10569462,\n",
       "         0.09615934, -0.00646616, -0.01048148,  0.14793439, -0.1060314 ],\n",
       "       dtype=float32)]"
      ]
     },
     "execution_count": 13,
     "metadata": {},
     "output_type": "execute_result"
    }
   ],
   "source": [
    "model.get_weights()"
   ]
  }
 ],
 "metadata": {
  "kernelspec": {
   "display_name": "Python 3",
   "language": "python",
   "name": "python3"
  },
  "language_info": {
   "codemirror_mode": {
    "name": "ipython",
    "version": 3
   },
   "file_extension": ".py",
   "mimetype": "text/x-python",
   "name": "python",
   "nbconvert_exporter": "python",
   "pygments_lexer": "ipython3",
   "version": "3.10.12"
  },
  "papermill": {
   "default_parameters": {},
   "duration": 57.528214,
   "end_time": "2023-08-18T20:24:15.856048",
   "environment_variables": {},
   "exception": null,
   "input_path": "__notebook__.ipynb",
   "output_path": "__notebook__.ipynb",
   "parameters": {},
   "start_time": "2023-08-18T20:23:18.327834",
   "version": "2.4.0"
  }
 },
 "nbformat": 4,
 "nbformat_minor": 5
}
