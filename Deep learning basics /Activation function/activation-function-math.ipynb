{
 "cells": [
  {
   "cell_type": "markdown",
   "id": "0fe6b558",
   "metadata": {
    "papermill": {
     "duration": 0.004322,
     "end_time": "2023-08-17T23:25:51.305149",
     "exception": false,
     "start_time": "2023-08-17T23:25:51.300827",
     "status": "completed"
    },
    "tags": []
   },
   "source": [
    "<h3 style='color:blue' align='center'>Implementation of activation functions in python</h3>"
   ]
  },
  {
   "cell_type": "markdown",
   "id": "4c530bd5",
   "metadata": {
    "papermill": {
     "duration": 0.003492,
     "end_time": "2023-08-17T23:25:51.312564",
     "exception": false,
     "start_time": "2023-08-17T23:25:51.309072",
     "status": "completed"
    },
    "tags": []
   },
   "source": [
    "<h3 style='color:purple'>Sigmoid</h3>"
   ]
  },
  {
   "cell_type": "code",
   "execution_count": 1,
   "id": "b7b405bf",
   "metadata": {
    "execution": {
     "iopub.execute_input": "2023-08-17T23:25:51.321702Z",
     "iopub.status.busy": "2023-08-17T23:25:51.321343Z",
     "iopub.status.idle": "2023-08-17T23:25:51.330313Z",
     "shell.execute_reply": "2023-08-17T23:25:51.329580Z"
    },
    "papermill": {
     "duration": 0.016007,
     "end_time": "2023-08-17T23:25:51.332200",
     "exception": false,
     "start_time": "2023-08-17T23:25:51.316193",
     "status": "completed"
    },
    "tags": []
   },
   "outputs": [],
   "source": [
    "import math\n",
    "\n",
    "def sigmoid(x):\n",
    "  return 1 / (1 + math.exp(-x))"
   ]
  },
  {
   "cell_type": "code",
   "execution_count": 2,
   "id": "7efff19a",
   "metadata": {
    "execution": {
     "iopub.execute_input": "2023-08-17T23:25:51.342178Z",
     "iopub.status.busy": "2023-08-17T23:25:51.341637Z",
     "iopub.status.idle": "2023-08-17T23:25:51.348427Z",
     "shell.execute_reply": "2023-08-17T23:25:51.347367Z"
    },
    "papermill": {
     "duration": 0.014493,
     "end_time": "2023-08-17T23:25:51.350698",
     "exception": false,
     "start_time": "2023-08-17T23:25:51.336205",
     "status": "completed"
    },
    "tags": []
   },
   "outputs": [
    {
     "data": {
      "text/plain": [
       "1.0"
      ]
     },
     "execution_count": 2,
     "metadata": {},
     "output_type": "execute_result"
    }
   ],
   "source": [
    "sigmoid(100)"
   ]
  },
  {
   "cell_type": "code",
   "execution_count": 3,
   "id": "0586897a",
   "metadata": {
    "execution": {
     "iopub.execute_input": "2023-08-17T23:25:51.360437Z",
     "iopub.status.busy": "2023-08-17T23:25:51.359798Z",
     "iopub.status.idle": "2023-08-17T23:25:51.365093Z",
     "shell.execute_reply": "2023-08-17T23:25:51.364430Z"
    },
    "papermill": {
     "duration": 0.012086,
     "end_time": "2023-08-17T23:25:51.366907",
     "exception": false,
     "start_time": "2023-08-17T23:25:51.354821",
     "status": "completed"
    },
    "tags": []
   },
   "outputs": [
    {
     "data": {
      "text/plain": [
       "0.7310585786300049"
      ]
     },
     "execution_count": 3,
     "metadata": {},
     "output_type": "execute_result"
    }
   ],
   "source": [
    "sigmoid(1)"
   ]
  },
  {
   "cell_type": "code",
   "execution_count": 4,
   "id": "62dbe011",
   "metadata": {
    "execution": {
     "iopub.execute_input": "2023-08-17T23:25:51.376496Z",
     "iopub.status.busy": "2023-08-17T23:25:51.376007Z",
     "iopub.status.idle": "2023-08-17T23:25:51.381377Z",
     "shell.execute_reply": "2023-08-17T23:25:51.380413Z"
    },
    "papermill": {
     "duration": 0.012592,
     "end_time": "2023-08-17T23:25:51.383540",
     "exception": false,
     "start_time": "2023-08-17T23:25:51.370948",
     "status": "completed"
    },
    "tags": []
   },
   "outputs": [
    {
     "data": {
      "text/plain": [
       "4.780892883885469e-25"
      ]
     },
     "execution_count": 4,
     "metadata": {},
     "output_type": "execute_result"
    }
   ],
   "source": [
    "sigmoid(-56)"
   ]
  },
  {
   "cell_type": "code",
   "execution_count": 5,
   "id": "73f5f191",
   "metadata": {
    "execution": {
     "iopub.execute_input": "2023-08-17T23:25:51.393757Z",
     "iopub.status.busy": "2023-08-17T23:25:51.393399Z",
     "iopub.status.idle": "2023-08-17T23:25:51.399644Z",
     "shell.execute_reply": "2023-08-17T23:25:51.398611Z"
    },
    "papermill": {
     "duration": 0.013717,
     "end_time": "2023-08-17T23:25:51.401668",
     "exception": false,
     "start_time": "2023-08-17T23:25:51.387951",
     "status": "completed"
    },
    "tags": []
   },
   "outputs": [
    {
     "data": {
      "text/plain": [
       "0.6224593312018546"
      ]
     },
     "execution_count": 5,
     "metadata": {},
     "output_type": "execute_result"
    }
   ],
   "source": [
    "sigmoid(0.5)"
   ]
  },
  {
   "cell_type": "markdown",
   "id": "3335e893",
   "metadata": {
    "papermill": {
     "duration": 0.00412,
     "end_time": "2023-08-17T23:25:51.410180",
     "exception": false,
     "start_time": "2023-08-17T23:25:51.406060",
     "status": "completed"
    },
    "tags": []
   },
   "source": [
    "<h3 style='color:purple'>tanh</h3>"
   ]
  },
  {
   "cell_type": "code",
   "execution_count": 6,
   "id": "8770f525",
   "metadata": {
    "execution": {
     "iopub.execute_input": "2023-08-17T23:25:51.420300Z",
     "iopub.status.busy": "2023-08-17T23:25:51.419935Z",
     "iopub.status.idle": "2023-08-17T23:25:51.425097Z",
     "shell.execute_reply": "2023-08-17T23:25:51.424066Z"
    },
    "papermill": {
     "duration": 0.012551,
     "end_time": "2023-08-17T23:25:51.427147",
     "exception": false,
     "start_time": "2023-08-17T23:25:51.414596",
     "status": "completed"
    },
    "tags": []
   },
   "outputs": [],
   "source": [
    "def tanh(x):\n",
    "  return (math.exp(x) - math.exp(-x)) / (math.exp(x) + math.exp(-x))"
   ]
  },
  {
   "cell_type": "code",
   "execution_count": 7,
   "id": "ade1bb85",
   "metadata": {
    "execution": {
     "iopub.execute_input": "2023-08-17T23:25:51.437825Z",
     "iopub.status.busy": "2023-08-17T23:25:51.437468Z",
     "iopub.status.idle": "2023-08-17T23:25:51.444147Z",
     "shell.execute_reply": "2023-08-17T23:25:51.443007Z"
    },
    "papermill": {
     "duration": 0.014448,
     "end_time": "2023-08-17T23:25:51.446206",
     "exception": false,
     "start_time": "2023-08-17T23:25:51.431758",
     "status": "completed"
    },
    "tags": []
   },
   "outputs": [
    {
     "data": {
      "text/plain": [
       "-1.0"
      ]
     },
     "execution_count": 7,
     "metadata": {},
     "output_type": "execute_result"
    }
   ],
   "source": [
    "tanh(-56)"
   ]
  },
  {
   "cell_type": "code",
   "execution_count": 8,
   "id": "34f18da2",
   "metadata": {
    "execution": {
     "iopub.execute_input": "2023-08-17T23:25:51.458827Z",
     "iopub.status.busy": "2023-08-17T23:25:51.458481Z",
     "iopub.status.idle": "2023-08-17T23:25:51.464494Z",
     "shell.execute_reply": "2023-08-17T23:25:51.463538Z"
    },
    "papermill": {
     "duration": 0.014362,
     "end_time": "2023-08-17T23:25:51.466641",
     "exception": false,
     "start_time": "2023-08-17T23:25:51.452279",
     "status": "completed"
    },
    "tags": []
   },
   "outputs": [
    {
     "data": {
      "text/plain": [
       "1.0"
      ]
     },
     "execution_count": 8,
     "metadata": {},
     "output_type": "execute_result"
    }
   ],
   "source": [
    "tanh(50)"
   ]
  },
  {
   "cell_type": "code",
   "execution_count": 9,
   "id": "b8dc2414",
   "metadata": {
    "execution": {
     "iopub.execute_input": "2023-08-17T23:25:51.478113Z",
     "iopub.status.busy": "2023-08-17T23:25:51.477767Z",
     "iopub.status.idle": "2023-08-17T23:25:51.483445Z",
     "shell.execute_reply": "2023-08-17T23:25:51.482494Z"
    },
    "papermill": {
     "duration": 0.013854,
     "end_time": "2023-08-17T23:25:51.485455",
     "exception": false,
     "start_time": "2023-08-17T23:25:51.471601",
     "status": "completed"
    },
    "tags": []
   },
   "outputs": [
    {
     "data": {
      "text/plain": [
       "0.7615941559557649"
      ]
     },
     "execution_count": 9,
     "metadata": {},
     "output_type": "execute_result"
    }
   ],
   "source": [
    "tanh(1)"
   ]
  },
  {
   "cell_type": "markdown",
   "id": "d1354f75",
   "metadata": {
    "papermill": {
     "duration": 0.00469,
     "end_time": "2023-08-17T23:25:51.495166",
     "exception": false,
     "start_time": "2023-08-17T23:25:51.490476",
     "status": "completed"
    },
    "tags": []
   },
   "source": [
    "<h3 style='color:purple'>ReLU</h3>"
   ]
  },
  {
   "cell_type": "code",
   "execution_count": 10,
   "id": "f560d35e",
   "metadata": {
    "execution": {
     "iopub.execute_input": "2023-08-17T23:25:51.506941Z",
     "iopub.status.busy": "2023-08-17T23:25:51.506122Z",
     "iopub.status.idle": "2023-08-17T23:25:51.510959Z",
     "shell.execute_reply": "2023-08-17T23:25:51.510079Z"
    },
    "papermill": {
     "duration": 0.012803,
     "end_time": "2023-08-17T23:25:51.512832",
     "exception": false,
     "start_time": "2023-08-17T23:25:51.500029",
     "status": "completed"
    },
    "tags": []
   },
   "outputs": [],
   "source": [
    "def relu(x):\n",
    "    return max(0,x)"
   ]
  },
  {
   "cell_type": "code",
   "execution_count": 11,
   "id": "3df3ea47",
   "metadata": {
    "execution": {
     "iopub.execute_input": "2023-08-17T23:25:51.524107Z",
     "iopub.status.busy": "2023-08-17T23:25:51.523749Z",
     "iopub.status.idle": "2023-08-17T23:25:51.529338Z",
     "shell.execute_reply": "2023-08-17T23:25:51.528370Z"
    },
    "papermill": {
     "duration": 0.013707,
     "end_time": "2023-08-17T23:25:51.531495",
     "exception": false,
     "start_time": "2023-08-17T23:25:51.517788",
     "status": "completed"
    },
    "tags": []
   },
   "outputs": [
    {
     "data": {
      "text/plain": [
       "0"
      ]
     },
     "execution_count": 11,
     "metadata": {},
     "output_type": "execute_result"
    }
   ],
   "source": [
    "relu(-100)"
   ]
  },
  {
   "cell_type": "code",
   "execution_count": 12,
   "id": "b2d55186",
   "metadata": {
    "execution": {
     "iopub.execute_input": "2023-08-17T23:25:51.543874Z",
     "iopub.status.busy": "2023-08-17T23:25:51.543055Z",
     "iopub.status.idle": "2023-08-17T23:25:51.548761Z",
     "shell.execute_reply": "2023-08-17T23:25:51.547805Z"
    },
    "papermill": {
     "duration": 0.014322,
     "end_time": "2023-08-17T23:25:51.551009",
     "exception": false,
     "start_time": "2023-08-17T23:25:51.536687",
     "status": "completed"
    },
    "tags": []
   },
   "outputs": [
    {
     "data": {
      "text/plain": [
       "8"
      ]
     },
     "execution_count": 12,
     "metadata": {},
     "output_type": "execute_result"
    }
   ],
   "source": [
    "relu(8)"
   ]
  },
  {
   "cell_type": "markdown",
   "id": "5bb508cc",
   "metadata": {
    "papermill": {
     "duration": 0.005066,
     "end_time": "2023-08-17T23:25:51.561683",
     "exception": false,
     "start_time": "2023-08-17T23:25:51.556617",
     "status": "completed"
    },
    "tags": []
   },
   "source": [
    "<h3 style='color:purple'>Leaky ReLU</h3>"
   ]
  },
  {
   "cell_type": "code",
   "execution_count": 13,
   "id": "26d43708",
   "metadata": {
    "execution": {
     "iopub.execute_input": "2023-08-17T23:25:51.573768Z",
     "iopub.status.busy": "2023-08-17T23:25:51.573398Z",
     "iopub.status.idle": "2023-08-17T23:25:51.577944Z",
     "shell.execute_reply": "2023-08-17T23:25:51.576960Z"
    },
    "papermill": {
     "duration": 0.012998,
     "end_time": "2023-08-17T23:25:51.579969",
     "exception": false,
     "start_time": "2023-08-17T23:25:51.566971",
     "status": "completed"
    },
    "tags": []
   },
   "outputs": [],
   "source": [
    "def leaky_relu(x):\n",
    "    return max(0.1*x,x)"
   ]
  },
  {
   "cell_type": "code",
   "execution_count": 14,
   "id": "5732abb8",
   "metadata": {
    "execution": {
     "iopub.execute_input": "2023-08-17T23:25:51.592634Z",
     "iopub.status.busy": "2023-08-17T23:25:51.592144Z",
     "iopub.status.idle": "2023-08-17T23:25:51.597751Z",
     "shell.execute_reply": "2023-08-17T23:25:51.597009Z"
    },
    "papermill": {
     "duration": 0.014092,
     "end_time": "2023-08-17T23:25:51.599539",
     "exception": false,
     "start_time": "2023-08-17T23:25:51.585447",
     "status": "completed"
    },
    "tags": []
   },
   "outputs": [
    {
     "data": {
      "text/plain": [
       "-10.0"
      ]
     },
     "execution_count": 14,
     "metadata": {},
     "output_type": "execute_result"
    }
   ],
   "source": [
    "leaky_relu(-100)"
   ]
  },
  {
   "cell_type": "code",
   "execution_count": 15,
   "id": "bacc4255",
   "metadata": {
    "execution": {
     "iopub.execute_input": "2023-08-17T23:25:51.611993Z",
     "iopub.status.busy": "2023-08-17T23:25:51.611661Z",
     "iopub.status.idle": "2023-08-17T23:25:51.617595Z",
     "shell.execute_reply": "2023-08-17T23:25:51.616659Z"
    },
    "papermill": {
     "duration": 0.014619,
     "end_time": "2023-08-17T23:25:51.619632",
     "exception": false,
     "start_time": "2023-08-17T23:25:51.605013",
     "status": "completed"
    },
    "tags": []
   },
   "outputs": [
    {
     "data": {
      "text/plain": [
       "8"
      ]
     },
     "execution_count": 15,
     "metadata": {},
     "output_type": "execute_result"
    }
   ],
   "source": [
    "leaky_relu(8)"
   ]
  }
 ],
 "metadata": {
  "kernelspec": {
   "display_name": "Python 3",
   "language": "python",
   "name": "python3"
  },
  "language_info": {
   "codemirror_mode": {
    "name": "ipython",
    "version": 3
   },
   "file_extension": ".py",
   "mimetype": "text/x-python",
   "name": "python",
   "nbconvert_exporter": "python",
   "pygments_lexer": "ipython3",
   "version": "3.10.12"
  },
  "papermill": {
   "default_parameters": {},
   "duration": 9.996268,
   "end_time": "2023-08-17T23:25:52.445882",
   "environment_variables": {},
   "exception": null,
   "input_path": "__notebook__.ipynb",
   "output_path": "__notebook__.ipynb",
   "parameters": {},
   "start_time": "2023-08-17T23:25:42.449614",
   "version": "2.4.0"
  }
 },
 "nbformat": 4,
 "nbformat_minor": 5
}
